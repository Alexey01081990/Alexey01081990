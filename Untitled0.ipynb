{
  "nbformat": 4,
  "nbformat_minor": 0,
  "metadata": {
    "colab": {
      "provenance": [],
      "authorship_tag": "ABX9TyO2Ilo4eSGqACP6MDW0P3ki",
      "include_colab_link": true
    },
    "kernelspec": {
      "name": "python3",
      "display_name": "Python 3"
    },
    "language_info": {
      "name": "python"
    }
  },
  "cells": [
    {
      "cell_type": "markdown",
      "metadata": {
        "id": "view-in-github",
        "colab_type": "text"
      },
      "source": [
        "<a href=\"https://colab.research.google.com/github/Alexey01081990/Alexey01081990/blob/main/Untitled0.ipynb\" target=\"_parent\"><img src=\"https://colab.research.google.com/assets/colab-badge.svg\" alt=\"Open In Colab\"/></a>"
      ]
    },
    {
      "cell_type": "code",
      "execution_count": null,
      "metadata": {
        "id": "AyHj8wEx6pLP"
      },
      "outputs": [],
      "source": []
    },
    {
      "cell_type": "code",
      "source": [
        "# birthday.py\n",
        "\n",
        "# Запрашиваем у пользователя день рождения\n",
        "day = input(\"Введите день вашего рождения (1-31): \")\n",
        "month = input(\"Введите месяц вашего рождения (1-12): \")\n",
        "year = input(\"Введите год вашего рождения (например, 1990): \")\n",
        "\n",
        "# Преобразуем к формату с ведущими нулями\n",
        "day = day.zfill(2)\n",
        "month = month.zfill(2)\n",
        "\n",
        "# Вывод результата\n",
        "print(f\"Вы родились {day}.{month}.{year}\")\n",
        "\n",
        "git init\n",
        "git add birthday.py\n",
        "git commit -m \"Добавлен скрипт запроса даты рожд"
      ],
      "metadata": {
        "colab": {
          "base_uri": "https://localhost:8080/",
          "height": 105
        },
        "id": "jzwP3Xt18WBG",
        "outputId": "c12af305-7501-406c-b889-6ad7e191c037"
      },
      "execution_count": 1,
      "outputs": [
        {
          "output_type": "error",
          "ename": "SyntaxError",
          "evalue": "unterminated string literal (detected at line 17) (ipython-input-1-2373327337.py, line 17)",
          "traceback": [
            "\u001b[0;36m  File \u001b[0;32m\"/tmp/ipython-input-1-2373327337.py\"\u001b[0;36m, line \u001b[0;32m17\u001b[0m\n\u001b[0;31m    git commit -m \"Добавлен скрипт запроса даты рожд\u001b[0m\n\u001b[0m                  ^\u001b[0m\n\u001b[0;31mSyntaxError\u001b[0m\u001b[0;31m:\u001b[0m unterminated string literal (detected at line 17)\n"
          ]
        }
      ]
    },
    {
      "cell_type": "code",
      "metadata": {
        "colab": {
          "base_uri": "https://localhost:8080/"
        },
        "id": "653ca607",
        "outputId": "81eca695-0dec-4bcb-9011-7ed5420670d6"
      },
      "source": [
        "# birthday.py\n",
        "\n",
        "# Запрашиваем у пользователя день рождения\n",
        "day = input(\"Введите день вашего рождения (1-31): \")\n",
        "month = input(\"Введите месяц вашего рождения (1-12): \")\n",
        "year = input(\"Введите год вашего рождения (например, 1990): \")\n",
        "\n",
        "# Преобразуем к формату с ведущими нулями\n",
        "day = day.zfill(2)\n",
        "month = month.zfill(2)\n",
        "\n",
        "# Вывод результата\n",
        "print(f\"Вы родились {day}.{month}.{year}\")"
      ],
      "execution_count": 2,
      "outputs": [
        {
          "output_type": "stream",
          "name": "stdout",
          "text": [
            "Введите день вашего рождения (1-31): 27\n",
            "Введите месяц вашего рождения (1-12): 7\n",
            "Введите год вашего рождения (например, 1990): 2001\n",
            "Вы родились 27.07.2001\n"
          ]
        }
      ]
    },
    {
      "cell_type": "code",
      "metadata": {
        "id": "eeee5041"
      },
      "source": [
        "git init\n",
        "git add birthday.py\n",
        "git commit -m \"Добавлен скрипт запроса даты рождения\""
      ],
      "execution_count": null,
      "outputs": []
    }
  ]
}