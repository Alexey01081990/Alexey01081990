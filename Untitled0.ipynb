{
  "nbformat": 4,
  "nbformat_minor": 0,
  "metadata": {
    "colab": {
      "provenance": [],
      "authorship_tag": "ABX9TyO41b/UPx+9no4mVcxbhced",
      "include_colab_link": true
    },
    "kernelspec": {
      "name": "python3",
      "display_name": "Python 3"
    },
    "language_info": {
      "name": "python"
    }
  },
  "cells": [
    {
      "cell_type": "markdown",
      "metadata": {
        "id": "view-in-github",
        "colab_type": "text"
      },
      "source": [
        "<a href=\"https://colab.research.google.com/github/Alexey01081990/Alexey01081990/blob/main/Untitled0.ipynb\" target=\"_parent\"><img src=\"https://colab.research.google.com/assets/colab-badge.svg\" alt=\"Open In Colab\"/></a>"
      ]
    },
    {
      "cell_type": "code",
      "execution_count": null,
      "metadata": {
        "id": "AyHj8wEx6pLP"
      },
      "outputs": [],
      "source": []
    },
    {
      "cell_type": "code",
      "metadata": {
        "id": "653ca607"
      },
      "source": [
        "# birthday.py\n",
        "\n",
        "# Запрашиваем у пользователя день рождения\n",
        "day = input(\"Введите день вашего рождения (1-31): \")\n",
        "month = input(\"Введите месяц вашего рождения (1-12): \")\n",
        "year = input(\"Введите год вашего рождения (например, 1990): \")\n",
        "\n",
        "# Преобразуем к формату с ведущими нулями\n",
        "day = day.zfill(2)\n",
        "month = month.zfill(2)\n",
        "\n",
        "# Вывод результата\n",
        "print(f\"Вы родились {day}.{month}.{year}\")"
      ],
      "execution_count": null,
      "outputs": []
    },
    {
      "cell_type": "code",
      "metadata": {
        "id": "eeee5041"
      },
      "source": [
        "git init\n",
        "git add birthday.py\n",
        "git commit -m \"Добавлен скрипт запроса даты рождения\""
      ],
      "execution_count": null,
      "outputs": []
    }
  ]
}